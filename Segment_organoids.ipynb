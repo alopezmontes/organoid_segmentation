{
  "cells": [
    {
      "cell_type": "markdown",
      "metadata": {
        "id": "view-in-github",
        "colab_type": "text"
      },
      "source": [
        "<a href=\"https://colab.research.google.com/github/alopezmontes/organoid_segmentation/blob/main/Segment_organoids.ipynb\" target=\"_parent\"><img src=\"https://colab.research.google.com/assets/colab-badge.svg\" alt=\"Open In Colab\"/></a>"
      ]
    },
    {
      "cell_type": "code",
      "execution_count": null,
      "metadata": {
        "id": "oRdmsiOfmEH6"
      },
      "outputs": [],
      "source": [
        "## Simple code for analyzing images\n",
        "\n",
        "#installing necessary packages\n",
        "!pip install matplotlib\n",
        "!pip install pillow\n",
        "!pip install scipy\n",
        "!pip install scikit-image\n",
        "!pip install ipympl\n",
        "!pip install opencv-python\n",
        "!pip install xlsxwriter\n",
        "!pip install glob2"
      ]
    },
    {
      "cell_type": "code",
      "execution_count": null,
      "metadata": {
        "id": "1-ZKv9gKmOFH"
      },
      "outputs": [],
      "source": [
        "# importing the packages you will need during the execution\n",
        "import sys\n",
        "import numpy as np\n",
        "import matplotlib\n",
        "import os\n",
        "import matplotlib.pyplot as plt\n",
        "import cv2\n",
        "from PIL import Image, ImageFilter\n",
        "import scipy.io as sio\n",
        "from scipy import ndimage\n",
        "from scipy.ndimage import gaussian_filter\n",
        "from scipy import stats as st\n",
        "import skimage\n",
        "from skimage import measure\n",
        "from skimage.segmentation import slic\n",
        "from skimage.color import label2rgb\n",
        "from skimage.segmentation import felzenszwalb\n",
        "import xlsxwriter\n",
        "import glob\n",
        "from matplotlib import figure\n"
      ]
    },
    {
      "cell_type": "code",
      "execution_count": null,
      "metadata": {
        "colab": {
          "base_uri": "https://localhost:8080/"
        },
        "id": "MIwf5rCgmn5o",
        "outputId": "5f3e4645-a878-44f6-8070-c17fbe3adf40"
      },
      "outputs": [
        {
          "output_type": "stream",
          "name": "stdout",
          "text": [
            "Mounted at /content/drive\n"
          ]
        }
      ],
      "source": [
        "from google.colab import drive\n",
        "drive.mount('/content/drive')\n",
        "\n",
        "from google.colab import output\n",
        "output.enable_custom_widget_manager()\n",
        "output.disable_custom_widget_manager()"
      ]
    },
    {
      "cell_type": "code",
      "execution_count": null,
      "metadata": {
        "colab": {
          "base_uri": "https://localhost:8080/"
        },
        "id": "wwEp8mRL5IHU",
        "outputId": "618bd7a3-b766-4360-bcfb-94aa2cfe0aa7"
      },
      "outputs": [
        {
          "output_type": "stream",
          "name": "stdout",
          "text": [
            "['cz031_70351', 'cz031_ogtt104', 'cz031_sjh005', 'cz031_70310', 'cz031_40090', 'cz031_srp012']\n"
          ]
        }
      ],
      "source": [
        "# moving to the folder with the organoids\n",
        "os.chdir('/content/drive/MyDrive/2023_cz031_organoids size')\n",
        "#see what is in the folder\n",
        "cases_dir = os.listdir()\n",
        "print(cases_dir)"
      ]
    },
    {
      "cell_type": "code",
      "execution_count": null,
      "metadata": {
        "id": "2izdC5fnnnBE"
      },
      "outputs": [],
      "source": [
        "# moving to the folder with the organoids\n",
        "os.chdir('/content/drive/MyDrive/2023_cz031_organoids size')\n",
        "#see what is in the folder\n",
        "cases_dir = os.listdir()\n",
        "print(cases_dir)\n",
        "\n",
        "#loop to go through all the folders\n",
        "#for icase in range(0,np.size(cases_dir)):\n",
        "plt.close('all')\n",
        "from google.colab import output\n",
        "output.enable_custom_widget_manager()\n",
        "\n",
        "for icase in range (0,np.size(cases_dir)):\n",
        "  wkdir = cases_dir[icase]\n",
        "  print(wkdir)\n",
        "  os.chdir(wkdir)\n",
        "  org_imgs=[]\n",
        "  for file in os.listdir():\n",
        "    if file.endswith(\".jpg\"):\n",
        "      org_imgs.append(file)\n",
        "  #for iorg in range(0,np.size(org_imgs)):\n",
        "  workbook = xlsxwriter.Workbook('results/Results_segmentation'+wkdir+'.xlsx') #opening an excel sheet to write the results\n",
        "  worksheet = workbook.add_worksheet() #adding a worksheet\n",
        "  worksheet.write(0, 0, 'File name')\n",
        "  worksheet.write(0, 1, 'Area (pixels)')\n",
        "  worksheet.write(0, 2, 'Original image')\n",
        "  worksheet.write(0, 3, 'Masked image')\n",
        "  worksheet.set_default_row(40)\n",
        "  worksheet.set_column(0, 100)  # Set the height of Row 1 to 20.\n",
        "  worksheet.set_column(1, 100)  # Set the height of Row 1 to 20.\n",
        "\n",
        "  # Start from the first cell.\n",
        "  # Rows and columns are zero indexed.\n",
        "  ikk = 0\n",
        "  names_dir = []\n",
        "  area_tot = []\n",
        "  for iorg in range(0,np.size(org_imgs)):\n",
        "    wimg = org_imgs[iorg]\n",
        "    names_dir.append(wimg)\n",
        "    print(names_dir[ikk])\n",
        "    img = cv2.imread(wimg)\n",
        "    img_array =np.array(img)\n",
        "    img0 = img_array\n",
        "    img0_g =  np.mean(img0, -1)\n",
        "    img_array=img0_g;\n",
        "    img_array = np.multiply(img0_g,1)\n",
        "    img_array[img_array>90] = 90 #set values higher than the threshold as background. Manual threshold for the moment\n",
        "    img_array = img_array/90\n",
        "    img_array = 1- img_array\n",
        "    segment = felzenszwalb(img_array,scale = 200,sigma=6,min_size=3)\n",
        "    kk = st.mode(segment[img0_g<70],axis=None,keepdims=False)\n",
        "    mask = np.zeros_like(segment)\n",
        "    mask[segment==kk.mode] = 1\n",
        "    kernel = np.ones((5, 5), np.uint8)\n",
        "    #mask = ndimage.grey_erosion(mask,size=20)\n",
        "    #mask = ndimage.grey_dilation(mask,size=20)\n",
        "    mask = ndimage.grey_dilation(mask,size=20)\n",
        "    mask = ndimage.grey_erosion(mask,size=20)\n",
        "    mask[mask>0] = 1.0\n",
        "    grad2d = np.gradient(mask)\n",
        "    gradm = np.power(np.power(grad2d[0][:][:],2)+ np.power(grad2d[1][:][:],2),0.5)\n",
        "    print(np.max(gradm,axis=None))\n",
        "    perimeter_mask = 1.0*np.sum(gradm,axis=None)\n",
        "    print(perimeter_mask)\n",
        "    #%matplotlib widget\n",
        "    #figure,\n",
        "    #plt.subplot(1,2,1)\n",
        "    #plt.imshow(np.multiply(mask,1),cmap='gray',vmin = 0, vmax = 1)\n",
        "    #plt.subplot(1,2,2)\n",
        "    #plt.imshow(gradm,cmap='gray',vmin = 0, vmax = 1)\n",
        "    masked = np.multiply(mask,img0_g)\n",
        "    masked_img = Image.fromarray(masked)\n",
        "    edge_img = Image.fromarray(255*gradm)\n",
        "    if masked_img.mode != 'RGB':\n",
        "      masked_img = masked_img.convert('RGB')\n",
        "    if edge_img.mode != 'RGB':\n",
        "      edge_img = edge_img.convert('RGB')\n",
        "    output_img = 'results/Masked_'+wimg\n",
        "    output_img2 = 'results/Edges_'+wimg\n",
        "    masked_img.save(output_img)\n",
        "    edge_img.save(output_img2)\n",
        "    area_mask = 1.0*np.sum(mask,axis=None)\n",
        "    area_tot.append(area_mask)\n",
        "    #print(np.shape(mask))\n",
        "    #print(np.shape(gradm))\n",
        "    circularity_mask = 4*np.pi*area_mask/(perimeter_mask*perimeter_mask)\n",
        "    print(\"Total area (in pixels) %i\" % area_tot[ikk])\n",
        "    print(\"Total perimeter (in pixels) %i\" % perimeter_mask)\n",
        "    ikk = ikk + 1\n",
        "    print(\"Circularity %6.3f\" % circularity_mask)\n",
        "    worksheet.write(ikk, 0, wimg)\n",
        "    worksheet.write(ikk, 1, area_mask)\n",
        "    worksheet.write(ikk, 2, perimeter_mask)\n",
        "    worksheet.write(ikk, 3, circularity_mask)\n",
        "    worksheet.insert_image(ikk, 4,wimg,{\"x_scale\": 0.05, \"y_scale\": 0.05})\n",
        "    worksheet.insert_image(ikk, 5,output_img,{\"x_scale\": 0.05, \"y_scale\": 0.05})\n",
        "    worksheet.insert_image(ikk, 6,output_img2,{\"x_scale\": 0.05, \"y_scale\": 0.05})\n",
        "\n",
        "  workbook.close()\n",
        "  os.chdir('/content/drive/MyDrive/2023_cz031_organoids size')"
      ]
    },
    {
      "cell_type": "code",
      "execution_count": null,
      "metadata": {
        "id": "KOqQYKUJ96mg"
      },
      "outputs": [],
      "source": [
        "%matplotlib widget\n",
        "figure\n",
        "plt.subplot(1,2,1)\n",
        "plt.imshow(np.multiply(mask,img0_g),cmap='gray',vmin = 0, vmax = 255)\n",
        "plt.subplot(1,2,2)\n",
        "plt.imshow(img0_g,cmap='gray',vmin = 0, vmax = 255)"
      ]
    },
    {
      "cell_type": "code",
      "execution_count": null,
      "metadata": {
        "colab": {
          "base_uri": "https://localhost:8080/",
          "height": 587,
          "referenced_widgets": [
            "d0fcd8db72714c7480325a5cf3ad9802",
            "897a9dd5278e461d9b09e9c7ff5532af",
            "dfd404360291493ebcd91cbd2fc66fc5",
            "7a286ce0b2754723aea6466f50ace189"
          ]
        },
        "id": "BKHrInKRcX71",
        "outputId": "3440e42c-7210-43cb-c1dd-229ff2032b34"
      },
      "outputs": [
        {
          "data": {
            "text/plain": [
              "<matplotlib.image.AxesImage at 0x7f59b5529c60>"
            ]
          },
          "execution_count": 56,
          "metadata": {},
          "output_type": "execute_result"
        },
        {
          "data": {
            "application/vnd.jupyter.widget-view+json": {
              "model_id": "d0fcd8db72714c7480325a5cf3ad9802",
              "version_major": 2,
              "version_minor": 0
            },
            "image/png": "[encoded data removed]",
            "text/html": [
              "\n",
              "            <div style=\"display: inline-block;\">\n",
              "                <div class=\"jupyter-widgets widget-label\" style=\"text-align: center;\">\n",
              "                    Figure\n",
              "                </div>\n",
              "                <img src='data:image/png;base64,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' width=640.0/>\n",
              "            </div>\n",
              "        "
            ],
            "text/plain": [
              "Canvas(toolbar=Toolbar(toolitems=[('Home', 'Reset original view', 'home', 'home'), ('Back', 'Back to previous …"
            ]
          },
          "metadata": {
            "application/vnd.jupyter.widget-view+json": {
              "colab": {
                "custom_widget_manager": {
                  "url": "https://ssl.gstatic.com/colaboratory-static/widgets/colab-cdn-widget-manager/b3e629b1971e1542/manager.min.js"
                }
              }
            }
          },
          "output_type": "display_data"
        }
      ],
      "source": [
        "plt.close('all')\n",
        "\n",
        "grad2d = np.gradient(mask)\n",
        "gradm = np.power(np.power(grad2d[0][:][:],2)+ np.power(grad2d[1][:][:],2),0.5)\n",
        "gradm[gradm>0]=1\n",
        "%matplotlib widget\n",
        "figure,\n",
        "plt.imshow(gradm,cmap='gray')"
      ]
    },
    {
      "cell_type": "code",
      "execution_count": null,
      "metadata": {
        "id": "NBxCYZgw9Sin"
      },
      "outputs": [],
      "source": []
    }
  ],
  "metadata": {
    "colab": {
      "provenance": [],
      "authorship_tag": "ABX9TyM/ILVDACCbE/yQm0VQY0BX",
      "include_colab_link": true
    },
    "kernelspec": {
      "display_name": "Python 3",
      "name": "python3"
    },
    "language_info": {
      "name": "python"
    },
    "widgets": {
      "application/vnd.jupyter.widget-state+json": {
        "7a286ce0b2754723aea6466f50ace189": {
          "model_module": "@jupyter-widgets/base",
          "model_module_version": "1.2.0",
          "model_name": "LayoutModel",
          "state": {
            "_model_module": "@jupyter-widgets/base",
            "_model_module_version": "1.2.0",
            "_model_name": "LayoutModel",
            "_view_count": null,
            "_view_module": "@jupyter-widgets/base",
            "_view_module_version": "1.2.0",
            "_view_name": "LayoutView",
            "align_content": null,
            "align_items": null,
            "align_self": null,
            "border": null,
            "bottom": null,
            "display": null,
            "flex": null,
            "flex_flow": null,
            "grid_area": null,
            "grid_auto_columns": null,
            "grid_auto_flow": null,
            "grid_auto_rows": null,
            "grid_column": null,
            "grid_gap": null,
            "grid_row": null,
            "grid_template_areas": null,
            "grid_template_columns": null,
            "grid_template_rows": null,
            "height": null,
            "justify_content": null,
            "justify_items": null,
            "left": null,
            "margin": null,
            "max_height": null,
            "max_width": null,
            "min_height": null,
            "min_width": null,
            "object_fit": null,
            "object_position": null,
            "order": null,
            "overflow": null,
            "overflow_x": null,
            "overflow_y": null,
            "padding": null,
            "right": null,
            "top": null,
            "visibility": null,
            "width": null
          }
        },
        "897a9dd5278e461d9b09e9c7ff5532af": {
          "model_module": "@jupyter-widgets/base",
          "model_module_version": "1.2.0",
          "model_name": "LayoutModel",
          "state": {
            "_model_module": "@jupyter-widgets/base",
            "_model_module_version": "1.2.0",
            "_model_name": "LayoutModel",
            "_view_count": null,
            "_view_module": "@jupyter-widgets/base",
            "_view_module_version": "1.2.0",
            "_view_name": "LayoutView",
            "align_content": null,
            "align_items": null,
            "align_self": null,
            "border": null,
            "bottom": null,
            "display": null,
            "flex": null,
            "flex_flow": null,
            "grid_area": null,
            "grid_auto_columns": null,
            "grid_auto_flow": null,
            "grid_auto_rows": null,
            "grid_column": null,
            "grid_gap": null,
            "grid_row": null,
            "grid_template_areas": null,
            "grid_template_columns": null,
            "grid_template_rows": null,
            "height": null,
            "justify_content": null,
            "justify_items": null,
            "left": null,
            "margin": null,
            "max_height": null,
            "max_width": null,
            "min_height": null,
            "min_width": null,
            "object_fit": null,
            "object_position": null,
            "order": null,
            "overflow": null,
            "overflow_x": null,
            "overflow_y": null,
            "padding": null,
            "right": null,
            "top": null,
            "visibility": null,
            "width": null
          }
        },
        "d0fcd8db72714c7480325a5cf3ad9802": {
          "model_module": "jupyter-matplotlib",
          "model_module_version": "^0.11",
          "model_name": "MPLCanvasModel",
          "state": {
            "_cursor": "default",
            "_data_url": "data:image/png;base64,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",
            "_dom_classes": [],
            "_figure_label": "Figure 1",
            "_image_mode": "full",
            "_message": "x=255. y=350.\n[0.000]",
            "_model_module": "jupyter-matplotlib",
            "_model_module_version": "^0.11",
            "_model_name": "MPLCanvasModel",
            "_rubberband_height": 0,
            "_rubberband_width": 0,
            "_rubberband_x": 0,
            "_rubberband_y": 0,
            "_size": [
              640,
              480
            ],
            "_view_count": null,
            "_view_module": "jupyter-matplotlib",
            "_view_module_version": "^0.11",
            "_view_name": "MPLCanvasView",
            "capture_scroll": false,
            "footer_visible": true,
            "header_visible": true,
            "layout": "IPY_MODEL_897a9dd5278e461d9b09e9c7ff5532af",
            "pan_zoom_throttle": 33,
            "resizable": true,
            "toolbar": "IPY_MODEL_dfd404360291493ebcd91cbd2fc66fc5",
            "toolbar_position": "left",
            "toolbar_visible": "fade-in-fade-out"
          }
        },
        "dfd404360291493ebcd91cbd2fc66fc5": {
          "model_module": "jupyter-matplotlib",
          "model_module_version": "^0.11",
          "model_name": "ToolbarModel",
          "state": {
            "_current_action": "",
            "_dom_classes": [],
            "_model_module": "jupyter-matplotlib",
            "_model_module_version": "^0.11",
            "_model_name": "ToolbarModel",
            "_view_count": null,
            "_view_module": "jupyter-matplotlib",
            "_view_module_version": "^0.11",
            "_view_name": "ToolbarView",
            "button_style": "",
            "collapsed": true,
            "layout": "IPY_MODEL_7a286ce0b2754723aea6466f50ace189",
            "orientation": "vertical",
            "toolitems": [
              [
                "Home",
                "Reset original view",
                "home",
                "home"
              ],
              [
                "Back",
                "Back to previous view",
                "arrow-left",
                "back"
              ],
              [
                "Forward",
                "Forward to next view",
                "arrow-right",
                "forward"
              ],
              [
                "Pan",
                "Left button pans, Right button zooms\nx/y fixes axis, CTRL fixes aspect",
                "arrows",
                "pan"
              ],
              [
                "Zoom",
                "Zoom to rectangle\nx/y fixes axis",
                "square-o",
                "zoom"
              ],
              [
                "Download",
                "Download plot",
                "floppy-o",
                "save_figure"
              ]
            ]
          }
        }
      }
    }
  },
  "nbformat": 4,
  "nbformat_minor": 0
}